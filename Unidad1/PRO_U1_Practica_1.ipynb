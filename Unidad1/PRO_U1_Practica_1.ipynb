{
  "cells": [
    {
      "cell_type": "markdown",
      "metadata": {
        "id": "view-in-github",
        "colab_type": "text"
      },
      "source": [
        "<a href=\"https://colab.research.google.com/github/JoseGabriel-ITD/Probabilidad-y-Estadistica/blob/main/Unidad1/PRO_U1_Practica_1.ipynb\" target=\"_parent\"><img src=\"https://colab.research.google.com/assets/colab-badge.svg\" alt=\"Open In Colab\"/></a>"
      ]
    },
    {
      "cell_type": "markdown",
      "metadata": {
        "id": "uKjVFnOIJgrD"
      },
      "source": [
        "![image](https://github.com/JoseGabriel-ITD/Probabilidad-y-Estadistica/blob/main/Cintilla2004.png?raw=true)\n",
        "\n",
        "# **Probabilidad y estadística**\n",
        "\n",
        "## Unidad 1\n",
        "\n",
        "### Practica 1. Estadística descriptiva básica e Histogramas.\n",
        "\n",
        "### Facilitador: *Dr. José Gabriel Rodríguez Rivas*\n",
        "\n",
        "### Alumno:  _____________\n"
      ]
    },
    {
      "cell_type": "markdown",
      "metadata": {
        "id": "wAF3u3V0JgrH"
      },
      "source": [
        "## Importar la libreria statistics\n",
        "\n",
        "Esta librería contiene las funciones para calcular estadísticas matemáticas de datos numéricos  "
      ]
    },
    {
      "cell_type": "code",
      "execution_count": null,
      "metadata": {
        "id": "HpAg0besvDaA"
      },
      "outputs": [],
      "source": [
        "from statistics import *"
      ]
    },
    {
      "cell_type": "markdown",
      "metadata": {
        "id": "T6lUuhHpJgrJ"
      },
      "source": [
        "## Ejemplo 1: Registro de calificaciones de 12 alumnos\n",
        "\n",
        "1. En este ejemplo generamos una lista que contiene las calificaciones de un grupo de 12 alumnos.\n",
        "2. Con esa lista de valores se pretende determinar las **Medidas de tendencia central, es decir, la media, la mediana y la moda**\n"
      ]
    },
    {
      "cell_type": "code",
      "execution_count": null,
      "metadata": {
        "colab": {
          "base_uri": "https://localhost:8080/"
        },
        "id": "JIy2WQh1wlco",
        "outputId": "1d2f17df-4dde-4c97-85a9-fd5a30ba086a"
      },
      "outputs": [
        {
          "output_type": "stream",
          "name": "stdout",
          "text": [
            "[70, 70, 65, 90, 100, 95, 45, 80, 73, 20, 100, 96]\n"
          ]
        }
      ],
      "source": [
        "# Lista de calificaciones del grupo a de probabilidad y estadistica\n",
        "grupoa = [70, 70, 65, 90, 100, 95, 45, 80 , 73, 20, 100, 96]\n",
        "print(grupoa)"
      ]
    },
    {
      "cell_type": "code",
      "execution_count": null,
      "metadata": {
        "colab": {
          "base_uri": "https://localhost:8080/"
        },
        "id": "Tt8OMKh52a5H",
        "outputId": "3e3915ae-df7e-40a8-c246-a49dd0a64275"
      },
      "outputs": [
        {
          "output_type": "execute_result",
          "data": {
            "text/plain": [
              "list"
            ]
          },
          "metadata": {},
          "execution_count": 4
        }
      ],
      "source": [
        "# la funcion type nos devuelve el tipo de dato de la variable\n",
        "type(grupoa)"
      ]
    },
    {
      "cell_type": "markdown",
      "metadata": {
        "id": "u5HvrT8Y2dki"
      },
      "source": [
        "### Determinar la media del ejemplo 1\n",
        "\n",
        "La media, también conocida como promedio, es el valor que se obtiene al dividir la suma de un conjunto de números entre la cantidad de ellos.\n",
        "\n",
        "Para obtener la Media de un conjunto solo tienes que seguir estos sencillos pasos:\n",
        "\n",
        "1. Determina el conjunto de valores que buscas promediar.\n",
        "2. Suma los valores para obtener el total\n",
        "3. Haz el conteo de la cantidad de valores en el conjunto.\n",
        "4. Divide la suma del conjunto entre la cantidad de números.\n",
        "\n",
        "**Media aritmética de la población**\n",
        "\n",
        "$$\n",
        "\\mu = \\sum_{i=1}^{N}=\\frac{x_i}{N}=\\frac{x_1+x_2+x_3+ ... x_{12}}{12}\n",
        "$$"
      ]
    },
    {
      "cell_type": "code",
      "execution_count": null,
      "metadata": {
        "colab": {
          "base_uri": "https://localhost:8080/"
        },
        "id": "xP7_lkTrxiUM",
        "outputId": "06cecb7e-925c-44ff-c4d9-66530b981ec0"
      },
      "outputs": [
        {
          "output_type": "stream",
          "name": "stdout",
          "text": [
            "75.33333333333333\n"
          ]
        }
      ],
      "source": [
        "# Sacar la media de las calificaciones con una formula\n",
        "\n",
        "promedio = sum(grupoa) / len(grupoa)\n",
        "print(promedio)"
      ]
    },
    {
      "cell_type": "code",
      "execution_count": null,
      "metadata": {
        "colab": {
          "base_uri": "https://localhost:8080/"
        },
        "id": "FZnFRIUQyI3e",
        "outputId": "ddc60f87-5c0d-4833-bdec-01651065b044"
      },
      "outputs": [
        {
          "output_type": "stream",
          "name": "stdout",
          "text": [
            "75.33333333333333\n"
          ]
        }
      ],
      "source": [
        "# Utilizar la funcion mean que esta en la libreria statistics para sacar\n",
        "# el promedio\n",
        "\n",
        "promedio2 = mean(grupoa)\n",
        "print(promedio2)"
      ]
    },
    {
      "cell_type": "markdown",
      "metadata": {
        "id": "buvBOHg9JgrL"
      },
      "source": [
        "### Determinar la mediana del ejemplo 1\n",
        "\n",
        "La mediana es el valor que **ocupa el lugar central de todos los datos cuando éstos están ordenados** de menor a mayor\n",
        "\n",
        "Los pasos para sacar la mediana son:\n",
        "\n",
        "1. **Ordena** todos los números del más pequeño al más grande.\n",
        "2. Encuentra el **número del medio** del conjunto de datos.\n",
        "- Si tienes una cantidad impar: Tacha el número al final de la izquierda, después el primero a la derecha, y repite el proceso hasta quedarte con un número, que será la mediana.\n",
        "- Si tienes una cantidad par, al final quedarás con dos números en el centro. Súmalos y divídelos entre 2 para obtener la mediana.\n"
      ]
    },
    {
      "cell_type": "code",
      "execution_count": null,
      "metadata": {
        "colab": {
          "base_uri": "https://localhost:8080/"
        },
        "id": "k78iVDbVykH_",
        "outputId": "e3dc913b-e219-4f95-f6cc-cacd84d56da8"
      },
      "outputs": [
        {
          "output_type": "stream",
          "name": "stdout",
          "text": [
            "76.5\n"
          ]
        }
      ],
      "source": [
        "# Determinar el valor de la mediana con la funcion median\n",
        "\n",
        "mediana = median(grupoa)\n",
        "print(mediana)"
      ]
    },
    {
      "cell_type": "markdown",
      "metadata": {
        "id": "5UN43bGzJgrL"
      },
      "source": [
        "### Determinar la moda del ejemplo 1\n",
        "\n",
        "1. La moda es el valor que más se repite dentro de un conjunto de datos.\n",
        "2. A diferencia de la media y la mediana, la moda no requiere valores numéricos y puede utilizarse con datos categóricos o discretos."
      ]
    },
    {
      "cell_type": "code",
      "execution_count": null,
      "metadata": {
        "colab": {
          "base_uri": "https://localhost:8080/"
        },
        "outputId": "c1381195-c3c9-43a8-a2de-5544d0bf2960",
        "id": "BpvjQO_HJgrL"
      },
      "outputs": [
        {
          "output_type": "stream",
          "name": "stdout",
          "text": [
            "70\n"
          ]
        }
      ],
      "source": [
        "# Determinar el valor de la moda con la funcion mode\n",
        "\n",
        "moda = mode(grupoa)\n",
        "print(moda)"
      ]
    },
    {
      "cell_type": "code",
      "source": [
        "# En caso de que exista mas de una moda, se puede emplear la funcion multimode para sacar las\n",
        "# Multiples modas que puedan existir\n",
        "\n",
        "moda2 = multimode(grupoa)\n",
        "print(moda2)"
      ],
      "metadata": {
        "colab": {
          "base_uri": "https://localhost:8080/"
        },
        "id": "n6Zb6Nv-YLG4",
        "outputId": "31bd6ec4-bcf8-4047-f605-5043784f32ed"
      },
      "execution_count": null,
      "outputs": [
        {
          "output_type": "stream",
          "name": "stdout",
          "text": [
            "[70, 100]\n"
          ]
        }
      ]
    },
    {
      "cell_type": "markdown",
      "metadata": {
        "id": "g2UdIDVA9NiP"
      },
      "source": [
        "## Ejemplo 2. Tiempos de 100 metros de un grupo de 12 alumnos\n",
        "\n",
        "1. En este ejemplo generamos una lista de un grupo de 10 alumnos que corren los 100 metros y se registran los tiempos de cada uno\n",
        "2. Con esa lista de valores se pretende determinar las **Medidas de tendencia central, es decir, la media, la mediana y la moda**\n"
      ]
    },
    {
      "cell_type": "code",
      "execution_count": null,
      "metadata": {
        "colab": {
          "base_uri": "https://localhost:8080/"
        },
        "id": "TanJE5kOznTD",
        "outputId": "483ed5d4-8ba5-4384-9fc7-c5a24e60d225"
      },
      "outputs": [
        {
          "name": "stdout",
          "output_type": "stream",
          "text": [
            "[15.1, 17.2, 14.69, 13.27, 22.15, 18.71, 19.15, 20.65, 15.1, 17.2]\n"
          ]
        }
      ],
      "source": [
        "# Definimos una varaiable llamada tiempos100mts de tipo lista, que contiene los\n",
        "# tiempos que tardaron los 10 alumnos para correr los 100 metros\n",
        "tiempos100mts = [ 15.10, 17.20, 14.69, 13.27, 22.15, 18.71, 19.15, 20.65,\n",
        "                 15.10, 17.20]\n",
        "\n",
        "# Desplegamos los valores de la lista\n",
        "print(tiempos100mts)"
      ]
    },
    {
      "cell_type": "markdown",
      "metadata": {
        "id": "-BV3dvACJgrM"
      },
      "source": [
        "### Funcion mean para calcular el promedio"
      ]
    },
    {
      "cell_type": "code",
      "execution_count": null,
      "metadata": {
        "colab": {
          "base_uri": "https://localhost:8080/"
        },
        "id": "iMkK95Ag6P9e",
        "outputId": "fc0276ff-ac61-4431-9584-7a187dad17b4"
      },
      "outputs": [
        {
          "name": "stdout",
          "output_type": "stream",
          "text": [
            "El tiempo promedio de los corredores es=> 17.322\n"
          ]
        }
      ],
      "source": [
        "# Usamos la funcion mean para determinar el tiempo promedio de la lista de valores\n",
        "\n",
        "print(\"El tiempo promedio de los corredores es=>\", mean(tiempos100mts) )"
      ]
    },
    {
      "cell_type": "markdown",
      "metadata": {
        "id": "Nm7EliZpJgrN"
      },
      "source": [
        "### Funcion median para calcular la mediana"
      ]
    },
    {
      "cell_type": "code",
      "execution_count": null,
      "metadata": {
        "colab": {
          "base_uri": "https://localhost:8080/"
        },
        "id": "mo0NKgPS6oDi",
        "outputId": "3a11033d-8a67-44c4-b18a-f476a74c8bcb"
      },
      "outputs": [
        {
          "name": "stdout",
          "output_type": "stream",
          "text": [
            "La media de los tiempos de los corredores es=> 17.2\n"
          ]
        }
      ],
      "source": [
        "# Usamos la funcion median  para determinar el tiempo promedio de la lista de valores\n",
        "\n",
        "# definimos una variable llammada mediana par calcular la mediana de la lista con la funcion\n",
        "# median\n",
        "mediana = median(tiempos100mts)\n",
        "print(\"La media de los tiempos de los corredores es=>\", mediana )"
      ]
    },
    {
      "cell_type": "markdown",
      "metadata": {
        "id": "waKJnHepJgrN"
      },
      "source": [
        "### Funcion mode para calcular la moda"
      ]
    },
    {
      "cell_type": "code",
      "execution_count": null,
      "metadata": {
        "colab": {
          "base_uri": "https://localhost:8080/"
        },
        "id": "2YdfCg_W9OW4",
        "outputId": "c3a1ca01-1e3c-477c-ff91-c30e3e58e412"
      },
      "outputs": [
        {
          "name": "stdout",
          "output_type": "stream",
          "text": [
            "La moda de los tiempos es=> 15.1\n"
          ]
        }
      ],
      "source": [
        "# definimos una variable llammada moda par calcular la moda  de la lista con la funcion\n",
        "# mode\n",
        "\n",
        "moda = mode(tiempos100mts)\n",
        "print(\"La moda de los tiempos es=>\", moda)"
      ]
    },
    {
      "cell_type": "markdown",
      "metadata": {
        "id": "d5Ivbu5yJgrN"
      },
      "source": [
        "### Función multimode para calcular múltiples modas (por ejemplo, en caso de que sea bimodal)"
      ]
    },
    {
      "cell_type": "code",
      "execution_count": null,
      "metadata": {
        "colab": {
          "base_uri": "https://localhost:8080/"
        },
        "id": "Qbhc87ZX9WVg",
        "outputId": "36949774-4796-492a-ff8a-16ff2237cc19"
      },
      "outputs": [
        {
          "name": "stdout",
          "output_type": "stream",
          "text": [
            "La moda de los tiempos es=> [15.1, 17.2]\n"
          ]
        }
      ],
      "source": [
        "multimodas = multimode(tiempos100mts)\n",
        "print(\"La moda de los tiempos es=>\", multimodas)"
      ]
    },
    {
      "cell_type": "markdown",
      "metadata": {
        "id": "9EZASuesJgrO"
      },
      "source": [
        "## Ejemplo 3: Histogramas de 2 grupos\n",
        "\n",
        "1. En este ejemplo generamos 100 numeros aleatorios reales que representa la produccion diaria de 100 telares (medidas en metros).\n",
        "2. Generar otra lista con la produccion de 100 telares para una segunda fabrica.\n",
        "3. Con estas listas de valores se pretende determinar las medidas de tendencia central, es decir, la media, la moda, la mediana, la desviacion estandar.\n",
        "4. Graficar un histograma para cada fabrica."
      ]
    },
    {
      "cell_type": "code",
      "execution_count": null,
      "metadata": {
        "id": "s23MSXiyJgrO"
      },
      "outputs": [],
      "source": [
        "# Libreria para generar numeros aleatorios\n",
        "import random"
      ]
    },
    {
      "cell_type": "code",
      "execution_count": null,
      "metadata": {
        "id": "7PMFODjrJgrO",
        "outputId": "1c2eb111-1f75-43ae-9be1-190485fc74a8"
      },
      "outputs": [
        {
          "name": "stdout",
          "output_type": "stream",
          "text": [
            "[83.37, 70.39, 89.16, 51.4, 74.1, 76.69, 94.82, 61.28, 66.01, 70.66, 54.71, 91.18, 74.41, 86.53, 83.17, 51.68, 54.63, 82.14, 82.81, 86.43, 55.27, 55.44, 85.63, 56.92, 85.46, 60.56, 82.63, 99.27, 53.16, 52.62, 56.39, 80.07, 77.92, 78.07, 94.34, 90.29, 62.28, 65.3, 81.56, 74.25, 69.94, 78.25, 92.19, 61.46, 57.91, 89.08, 64.9, 82.58, 50.42, 85.67, 70.24, 84.08, 55.5, 76.19, 66.9, 89.18, 93.84, 52.06, 92.27, 90.74, 88.91, 61.03, 99.05, 62.14, 52.96, 90.66, 73.77, 61.24, 75.17, 86.65, 61.79, 88.46, 55.85, 87.83, 65.5, 76.44, 55.4, 93.17, 93.22, 71.81, 87.04, 50.74, 90.84, 75.18, 81.89, 90.1, 79.79, 53.96, 54.22, 90.61, 77.81, 66.28, 60.93, 83.12, 73.18, 61.72, 90.79, 86.79, 53.46, 63.89]\n"
          ]
        }
      ],
      "source": [
        "fabrica1 = []\n",
        "for i in range(100):\n",
        "    numero_aleatorio = round( random.uniform(50, 100), 2 )\n",
        "    fabrica1.append(numero_aleatorio)\n",
        "print(fabrica1)"
      ]
    },
    {
      "cell_type": "code",
      "execution_count": null,
      "metadata": {
        "id": "dsftImLzJgrO",
        "outputId": "cb379fc4-44e6-488b-a0d6-3037add4d219"
      },
      "outputs": [
        {
          "name": "stdout",
          "output_type": "stream",
          "text": [
            "[92.18, 94.44, 88.47, 79.12, 95.65, 68.32, 61.15, 77.25, 54.28, 82.22, 61.16, 69.01, 92.13, 70.89, 85.09, 89.3, 68.49, 92.35, 58.91, 55.69, 66.68, 77.66, 83.51, 82.64, 70.61, 71.39, 71.82, 59.99, 99.56, 75.72, 66.02, 69.1, 70.64, 71.43, 99.88, 78.35, 52.73, 59.48, 74.56, 97.14, 64.21, 94.06, 96.86, 98.49, 87.49, 74.68, 72.65, 90.53, 67.86, 60.86, 59.19, 56.77, 77.25, 68.24, 93.55, 56.7, 50.06, 54.52, 82.64, 78.92, 54.96, 64.52, 50.14, 64.27, 64.5, 55.85, 87.71, 54.58, 97.73, 72.2, 74.67, 76.48, 51.3, 74.26, 80.95, 51.4, 53.83, 70.29, 63.61, 64.33, 82.11, 77.63, 71.14, 56.04, 78.78, 87.97, 99.89, 93.83, 66.7, 84.62, 55.38, 71.13, 76.17, 97.33, 92.04, 57.14, 54.96, 51.74, 69.66, 80.18]\n"
          ]
        }
      ],
      "source": [
        "fabrica2 = []\n",
        "for i in range(100):\n",
        "    numero_aleatorio2 = round( random.uniform(50, 100), 2 )\n",
        "    fabrica2.append(numero_aleatorio2)\n",
        "print(fabrica2)"
      ]
    },
    {
      "cell_type": "code",
      "execution_count": null,
      "metadata": {
        "id": "EOzfIM9RJgrO"
      },
      "outputs": [],
      "source": [
        "# libreia de python para graficar valores\n",
        "import matplotlib.pyplot as plt"
      ]
    },
    {
      "cell_type": "code",
      "execution_count": null,
      "metadata": {
        "id": "v_44HwvfJgrO",
        "outputId": "eb77bcca-94c8-417a-a24a-2df6f41a8309"
      },
      "outputs": [
        {
          "data": {
            "text/plain": [
              "Text(0.5, 1.0, 'Producción diara de la Fabrica 1')"
            ]
          },
          "execution_count": 19,
          "metadata": {},
          "output_type": "execute_result"
        },
        {
          "data": {
            "image/png": "[encoded data removed]",
            "text/plain": [
              "<Figure size 640x480 with 1 Axes>"
            ]
          },
          "metadata": {},
          "output_type": "display_data"
        }
      ],
      "source": [
        "plt.hist(fabrica1)\n",
        "plt.title(\"Producción diara de la Fabrica 1\")"
      ]
    },
    {
      "cell_type": "code",
      "execution_count": null,
      "metadata": {
        "id": "k5b1VnsFJgrP",
        "outputId": "ebb07f56-2ef5-4e85-a2dd-d17b9244a5b7"
      },
      "outputs": [
        {
          "data": {
            "text/plain": [
              "Text(0.5, 1.0, 'Producción diara de la Fabrica 2')"
            ]
          },
          "execution_count": 20,
          "metadata": {},
          "output_type": "execute_result"
        },
        {
          "data": {
            "image/png": "[encoded data removed]",
            "text/plain": [
              "<Figure size 640x480 with 1 Axes>"
            ]
          },
          "metadata": {},
          "output_type": "display_data"
        }
      ],
      "source": [
        "plt.hist(fabrica2)\n",
        "plt.title(\"Producción diara de la Fabrica 2\")"
      ]
    },
    {
      "cell_type": "code",
      "execution_count": null,
      "metadata": {
        "id": "alFlkHr7JgrP",
        "outputId": "aac8e90a-124f-4721-9fe6-2a8a6f7528c6"
      },
      "outputs": [
        {
          "name": "stdout",
          "output_type": "stream",
          "text": [
            "Valores de la fabrica 1\n",
            "La media es = 74.0979\n",
            "la mediana es = 75.685\n",
            "la moda es = 83.37\n"
          ]
        }
      ],
      "source": [
        "media1 = mean(fabrica1)\n",
        "mediana1 = median(fabrica1)\n",
        "moda1= mode(fabrica1)\n",
        "\n",
        "print(\"Valores de la fabrica 1\")\n",
        "print(\"La media es =\", media1)\n",
        "print(\"la mediana es =\", mediana1)\n",
        "print(\"la moda es =\", moda1)"
      ]
    },
    {
      "cell_type": "code",
      "execution_count": null,
      "metadata": {
        "id": "Qn_duAKwJgrP",
        "outputId": "0e98ac2c-4510-4b1c-9fad-fb650b91429d"
      },
      "outputs": [
        {
          "name": "stdout",
          "output_type": "stream",
          "text": [
            "Valores de la fabrica 2\n",
            "La media es = 73.5256\n",
            "la mediana es = 71.625\n",
            "la moda es = 77.25\n"
          ]
        }
      ],
      "source": [
        "media2 = mean(fabrica2)\n",
        "mediana2 = median(fabrica2)\n",
        "moda2= mode(fabrica2)\n",
        "\n",
        "print(\"Valores de la fabrica 2\")\n",
        "print(\"La media es =\", media2)\n",
        "print(\"la mediana es =\", mediana2)\n",
        "print(\"la moda es =\", moda2)"
      ]
    },
    {
      "cell_type": "code",
      "execution_count": null,
      "metadata": {
        "id": "u0UEp7WAJgrQ",
        "outputId": "75ea89cb-c2d6-4d4d-82b9-cc844593ebcc"
      },
      "outputs": [
        {
          "data": {
            "image/png": "[encoded data removed]",
            "text/plain": [
              "<Figure size 1000x500 with 2 Axes>"
            ]
          },
          "metadata": {},
          "output_type": "display_data"
        }
      ],
      "source": [
        "# generar 2 subplot de 1 renglon por 2 columnas para desplegar los 2 histogramas,\n",
        "# una al lado de la otra\n",
        "fig, (ax1, ax2) = plt.subplots(nrows =1, ncols=2, figsize=(10, 5))\n",
        "ax1.hist(fabrica1)\n",
        "ax2.hist(fabrica2)\n",
        "plt.show()"
      ]
    },
    {
      "cell_type": "code",
      "execution_count": null,
      "metadata": {
        "id": "KiguFK03JgrR",
        "outputId": "e3cdaa28-7b02-440b-bf16-c2e7406c8cc1"
      },
      "outputs": [
        {
          "data": {
            "image/png": "[encoded data removed]",
            "text/plain": [
              "<Figure size 640x480 with 1 Axes>"
            ]
          },
          "metadata": {},
          "output_type": "display_data"
        }
      ],
      "source": [
        "plt.hist(fabrica1, bins=10, alpha=0.2, color='b', edgecolor = \"black\")\n",
        "plt.axvline(media1, color='b', linestyle='dashed', linewidth=2, label='Media')\n",
        "plt.axvline(mediana1, color='r', linestyle='dashed', linewidth=2, label='Mediana')\n",
        "plt.axvline(moda1, color='y', linestyle='dashed', linewidth=2, label='Moda')\n",
        "plt.xlabel('Valor')\n",
        "plt.ylabel('Frecuencia')\n",
        "plt.title(\"Producción diaria de la fabrica 1\")\n",
        "plt.legend()\n",
        "plt.show()"
      ]
    },
    {
      "cell_type": "code",
      "execution_count": null,
      "metadata": {
        "id": "rsMZY8EOJgrR",
        "outputId": "c48f132a-a8e5-4898-8cad-8b9c2a6b181d"
      },
      "outputs": [
        {
          "data": {
            "image/png": "[encoded data removed]",
            "text/plain": [
              "<Figure size 640x480 with 1 Axes>"
            ]
          },
          "metadata": {},
          "output_type": "display_data"
        }
      ],
      "source": [
        "plt.hist(fabrica2, bins=10, alpha=0.2, color='b', edgecolor = \"black\")\n",
        "plt.axvline(media2, color='b', linestyle='dashed', linewidth=2, label='Media')\n",
        "plt.axvline(mediana2, color='r', linestyle='dashed', linewidth=2, label='Mediana')\n",
        "plt.axvline(moda2, color='y', linestyle='dashed', linewidth=2, label='Moda')\n",
        "plt.xlabel('Valor')\n",
        "plt.ylabel('Frecuencia')\n",
        "plt.title(\"Producción diaria de la fabrica 2\")\n",
        "plt.legend()\n",
        "plt.show()"
      ]
    },
    {
      "cell_type": "code",
      "execution_count": null,
      "metadata": {
        "id": "P3XIhdOMJgrd"
      },
      "outputs": [],
      "source": []
    },
    {
      "cell_type": "code",
      "execution_count": null,
      "metadata": {
        "id": "RvJk1wxeJgrd"
      },
      "outputs": [],
      "source": []
    }
  ],
  "metadata": {
    "colab": {
      "provenance": [],
      "include_colab_link": true
    },
    "kernelspec": {
      "display_name": "Python [conda env:base] *",
      "language": "python",
      "name": "conda-base-py"
    },
    "language_info": {
      "codemirror_mode": {
        "name": "ipython",
        "version": 3
      },
      "file_extension": ".py",
      "mimetype": "text/x-python",
      "name": "python",
      "nbconvert_exporter": "python",
      "pygments_lexer": "ipython3",
      "version": "3.11.5"
    }
  },
  "nbformat": 4,
  "nbformat_minor": 0
}