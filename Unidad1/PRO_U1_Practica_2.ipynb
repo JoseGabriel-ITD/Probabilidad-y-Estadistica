{
  "cells": [
    {
      "cell_type": "markdown",
      "metadata": {
        "id": "view-in-github",
        "colab_type": "text"
      },
      "source": [
        "<a href=\"https://colab.research.google.com/github/JoseGabriel-ITD/Probabilidad-y-Estadistica/blob/main/Unidad1/PRO_U1_Practica_2.ipynb\" target=\"_parent\"><img src=\"https://colab.research.google.com/assets/colab-badge.svg\" alt=\"Open In Colab\"/></a>"
      ]
    },
    {
      "cell_type": "markdown",
      "metadata": {
        "id": "NlR2W18jASRP"
      },
      "source": [
        "![image](https://github.com/JoseGabriel-ITD/Probabilidad-y-Estadistica/blob/main/Cintilla2004.png?raw=true)\n",
        "\n",
        "# **Probabilidad y estadística**\n",
        "\n",
        "## Unidad 1\n",
        "\n",
        "### Practica 1. Estadística descriptiva básica e Histogramas.\n",
        "\n",
        "### Facilitador: *Dr. José Gabriel Rodríguez Rivas*\n",
        "\n",
        "### Alumno:  _____________\n",
        "\n"
      ]
    },
    {
      "cell_type": "markdown",
      "metadata": {
        "id": "1suR_wc9ASRS"
      },
      "source": [
        "###  Ayuda sobre el lenguaje Markdown\n",
        "Markdown  es un lenguaje de marcas sencillo que sirve para agregar formato, vínculos e imágenes con facilidad en un entorno de programación interactvo en Python o R, con el entorno Jupyter Notebook o en un entorno en la nube como Google Colab\n",
        "\n",
        "link  https://www.markdownguide.org/cheat-sheet/\n",
        "\n",
        "Texto con link [Markdown Cheat Sheet](https://www.markdownguide.org/cheat-sheet/)\n",
        "\n",
        "Extensiones de Markdown: Sintaxis, ecuaciones, teoremas, imagenes, tablas https://bookdown.org/ana_vm/_book/extensiones-sintaxis-ecuaciones-teoremas-imagenes-tablas.html\n"
      ]
    },
    {
      "cell_type": "markdown",
      "metadata": {
        "id": "y9woMWxXASRT"
      },
      "source": [
        "## Importar la libreria statistics\n",
        "\n",
        "Esta librería contiene las funciones para calcular estadísticas matemáticas de datos numéricos  "
      ]
    },
    {
      "cell_type": "code",
      "execution_count": null,
      "metadata": {
        "id": "HpAg0besvDaA"
      },
      "outputs": [],
      "source": [
        "from statistics import *"
      ]
    },
    {
      "cell_type": "markdown",
      "metadata": {
        "id": "EsUtCMjVASRV"
      },
      "source": [
        "## Ejemplo 1: Registro de calificaciones de 12 alumnos\n",
        "\n",
        "1. En este ejemplo generamos una lista que contiene las calificaciones de un grupo de 12 alumnos.\n",
        "2. Con esa lista de valores se pretende determinar las **Medidas de tendencia central, es decir, la media, la mediana y la moda**\n"
      ]
    },
    {
      "cell_type": "code",
      "execution_count": null,
      "metadata": {
        "colab": {
          "base_uri": "https://localhost:8080/"
        },
        "id": "JIy2WQh1wlco",
        "outputId": "fab981b0-42d0-468c-cef2-db32c540493a"
      },
      "outputs": [
        {
          "output_type": "stream",
          "name": "stdout",
          "text": [
            "[70, 70, 65, 90, 100, 95, 45, 80, 73, 20, 100, 96]\n"
          ]
        }
      ],
      "source": [
        "# Lista de calificaciones del grupo a de probabilidad y estadistica\n",
        "\n",
        "grupoa = [70, 70, 65, 90, 100, 95, 45, 80 , 73, 20, 100, 96]\n",
        "print(grupoa)"
      ]
    },
    {
      "cell_type": "code",
      "execution_count": null,
      "metadata": {
        "colab": {
          "base_uri": "https://localhost:8080/"
        },
        "id": "Tt8OMKh52a5H",
        "outputId": "f54f3bed-9564-47c4-99ae-5b37a65a8f7f"
      },
      "outputs": [
        {
          "output_type": "execute_result",
          "data": {
            "text/plain": [
              "list"
            ]
          },
          "metadata": {},
          "execution_count": 3
        }
      ],
      "source": [
        "# la funcion type nos devuelve el tipo de dato dela variable\n",
        "type(grupoa)"
      ]
    },
    {
      "cell_type": "markdown",
      "metadata": {
        "id": "u5HvrT8Y2dki"
      },
      "source": [
        "### Determinar la media del ejemplo 1\n",
        "\n",
        "La media, también conocida como promedio, es el valor que se obtiene al dividir la suma de un conjunto de números entre la cantidad de ellos.\n",
        "\n",
        "Para obtener la Media de un conjunto solo tienes que seguir estos sencillos pasos:\n",
        "\n",
        "1. Determina el conjunto de valores que buscas promediar.\n",
        "2. Suma los valores para obtener el total\n",
        "3. Haz el conteo de la cantidad de valores en el conjunto.\n",
        "4. Divide la suma del conjunto entre la cantidad de números.\n",
        "\n",
        "**Media aritmética de la población**\n",
        "\n",
        "$$\n",
        "\\mu = \\sum_{i=1}^{N}=\\frac{x_i}{N}=\\frac{x_1+x_2+x_3+ ... x_{12}}{12}\n",
        "$$"
      ]
    },
    {
      "cell_type": "code",
      "execution_count": null,
      "metadata": {
        "colab": {
          "base_uri": "https://localhost:8080/"
        },
        "id": "xP7_lkTrxiUM",
        "outputId": "4fa01316-f991-42a8-fde6-23eae011b3e6"
      },
      "outputs": [
        {
          "output_type": "stream",
          "name": "stdout",
          "text": [
            "75.33333333333333\n"
          ]
        }
      ],
      "source": [
        "# Sacar la media de las calificaciones con una formula\n",
        "\n",
        "promedio = sum(grupoa) / len(grupoa)\n",
        "print(promedio)"
      ]
    },
    {
      "cell_type": "code",
      "execution_count": null,
      "metadata": {
        "colab": {
          "base_uri": "https://localhost:8080/"
        },
        "id": "FZnFRIUQyI3e",
        "outputId": "db7b1090-95cc-4015-843c-7406142edc93"
      },
      "outputs": [
        {
          "output_type": "stream",
          "name": "stdout",
          "text": [
            "75.33333333333333\n"
          ]
        }
      ],
      "source": [
        "# Utilizar la funcion mean que esta en la libreria statistics para sacar\n",
        "# el promedio\n",
        "\n",
        "promedio2 = mean(grupoa)\n",
        "print(promedio2)"
      ]
    },
    {
      "cell_type": "markdown",
      "metadata": {
        "id": "qpVSwww7ASRY"
      },
      "source": [
        "### Determinar la mediana del ejemplo 1\n",
        "\n",
        "La mediana es el valor que **ocupa el lugar central de todos los datos cuando éstos están ordenados** de menor a mayor\n",
        "\n",
        "Los pasos para sacar la mediana son:\n",
        "\n",
        "1. **Ordena** todos los números del más pequeño al más grande.\n",
        "2. Encuentra el **número del medio** del conjunto de datos.\n",
        "- Si tienes una cantidad impar: Tacha el número al final de la izquierda, después el primero a la derecha, y repite el proceso hasta quedarte con un número, que será la mediana.\n",
        "- Si tienes una cantidad par, al final quedarás con dos números en el centro. Súmalos y divídelos entre 2 para obtener la mediana.\n"
      ]
    },
    {
      "cell_type": "code",
      "execution_count": null,
      "metadata": {
        "colab": {
          "base_uri": "https://localhost:8080/"
        },
        "id": "k78iVDbVykH_",
        "outputId": "b361fb4a-e6cd-4523-ae03-b461373336e6"
      },
      "outputs": [
        {
          "output_type": "stream",
          "name": "stdout",
          "text": [
            "76.5\n"
          ]
        }
      ],
      "source": [
        "# Determinar el valor de la mediana con la funcion median\n",
        "\n",
        "mediana = median(grupoa)\n",
        "print(mediana)"
      ]
    },
    {
      "cell_type": "markdown",
      "metadata": {
        "id": "zfWcX-DlASRZ"
      },
      "source": [
        "### Determinar la moda del ejemplo 1\n",
        "\n",
        "1. La moda es el valor que más se repite dentro de un conjunto de datos.\n",
        "2. A diferencia de la media y la mediana, la moda no requiere valores numéricos y puede utilizarse con datos categóricos o discretos."
      ]
    },
    {
      "cell_type": "code",
      "execution_count": null,
      "metadata": {
        "colab": {
          "base_uri": "https://localhost:8080/"
        },
        "outputId": "a5415095-31bd-4b72-e605-565ad816637a",
        "id": "Y2ulFxAEASRZ"
      },
      "outputs": [
        {
          "output_type": "stream",
          "name": "stdout",
          "text": [
            "70\n"
          ]
        }
      ],
      "source": [
        "# Determinar el valor de la moda con la funcion mode\n",
        "\n",
        "moda = mode(grupoa)\n",
        "print(moda)"
      ]
    },
    {
      "cell_type": "markdown",
      "metadata": {
        "id": "g2UdIDVA9NiP"
      },
      "source": [
        "## Ejemplo 2. Tiempos de 100 metros de un grupo de 12 alumnos\n",
        "\n",
        "1. En este ejemplo generamos una lista de un grupo de 10 alumnos que corren los 100 metros y se registran los tiempos de cada uno\n",
        "2. Con esa lista de valores se pretende determinar las **Medidas de tendencia central, es decir, la media, la mediana y la moda**\n"
      ]
    },
    {
      "cell_type": "code",
      "execution_count": null,
      "metadata": {
        "colab": {
          "base_uri": "https://localhost:8080/"
        },
        "id": "TanJE5kOznTD",
        "outputId": "9ab1605f-f55d-4bb5-8876-c2e05f9a8929"
      },
      "outputs": [
        {
          "output_type": "stream",
          "name": "stdout",
          "text": [
            "[15.1, 17.2, 14.69, 13.27, 22.15, 18.71, 19.15, 20.65, 15.1, 17.2]\n"
          ]
        }
      ],
      "source": [
        "# Definimos una varaiable llamada tiempos100mts de tipo lista, que contiene los\n",
        "# tiempos que tardaron los 10 alumnos para correr los 100 metros\n",
        "tiempos100mts = [ 15.10, 17.20, 14.69, 13.27, 22.15, 18.71, 19.15, 20.65, 15.10, 17.20]\n",
        "\n",
        "# Desplegamos los valores de la lista\n",
        "print(tiempos100mts)"
      ]
    },
    {
      "cell_type": "markdown",
      "metadata": {
        "id": "LmwfgDl_ASRa"
      },
      "source": [
        "### Funcion mean para calcular el promedio"
      ]
    },
    {
      "cell_type": "code",
      "execution_count": null,
      "metadata": {
        "colab": {
          "base_uri": "https://localhost:8080/"
        },
        "id": "iMkK95Ag6P9e",
        "outputId": "ad153aab-9d43-46f8-e72e-a37fcdbfdd5a"
      },
      "outputs": [
        {
          "output_type": "stream",
          "name": "stdout",
          "text": [
            "El tiempo promedio de los corredores es=> 17.322\n"
          ]
        }
      ],
      "source": [
        "# Usamos la funcion mean para determinar el tiempo promedio de la lista de valores\n",
        "\n",
        "print(\"El tiempo promedio de los corredores es=>\", mean(tiempos100mts) )"
      ]
    },
    {
      "cell_type": "markdown",
      "metadata": {
        "id": "Im1XPLUcASRb"
      },
      "source": [
        "### Funcion median para calcular la mediana"
      ]
    },
    {
      "cell_type": "code",
      "execution_count": null,
      "metadata": {
        "colab": {
          "base_uri": "https://localhost:8080/"
        },
        "id": "mo0NKgPS6oDi",
        "outputId": "aa67eb30-e595-4a2d-e1b4-ef86794afe96"
      },
      "outputs": [
        {
          "output_type": "stream",
          "name": "stdout",
          "text": [
            "La media de los tiempos de los corredores es=> 17.2\n"
          ]
        }
      ],
      "source": [
        "# Usamos la funcion median  para determinar el tiempo promedio de la lista de valores\n",
        "\n",
        "# definimos una variable llammada mediana par calcular la mediana de la lista con la funcion\n",
        "# median\n",
        "mediana = median(tiempos100mts)\n",
        "print(\"La media de los tiempos de los corredores es=>\", mediana )"
      ]
    },
    {
      "cell_type": "markdown",
      "metadata": {
        "id": "DP8b8BzqASRc"
      },
      "source": [
        "### Funcion mode para calcular la moda"
      ]
    },
    {
      "cell_type": "code",
      "execution_count": null,
      "metadata": {
        "colab": {
          "base_uri": "https://localhost:8080/"
        },
        "id": "2YdfCg_W9OW4",
        "outputId": "e3dea5a9-e3bf-4ddc-ad64-0c8cb7b19b87"
      },
      "outputs": [
        {
          "output_type": "stream",
          "name": "stdout",
          "text": [
            "La moda de los tiempos es=> 15.1\n"
          ]
        }
      ],
      "source": [
        "# definimos una variable llammada moda par calcular la moda  de la lista con la funcion\n",
        "# mode\n",
        "\n",
        "moda = mode(tiempos100mts)\n",
        "print(\"La moda de los tiempos es=>\", moda)"
      ]
    },
    {
      "cell_type": "markdown",
      "metadata": {
        "id": "MEDREC6hASRc"
      },
      "source": [
        "### Función multimode para calcular múltiples modas (por ejemplo, en caso de que sea bimodal)"
      ]
    },
    {
      "cell_type": "code",
      "execution_count": null,
      "metadata": {
        "colab": {
          "base_uri": "https://localhost:8080/"
        },
        "id": "Qbhc87ZX9WVg",
        "outputId": "1d9ec526-5fb2-4b3d-ea30-c26b365c2dac"
      },
      "outputs": [
        {
          "output_type": "stream",
          "name": "stdout",
          "text": [
            "La moda de los tiempos es=> [15.1, 17.2]\n"
          ]
        }
      ],
      "source": [
        "multimodas = multimode(tiempos100mts)\n",
        "print(\"La moda de los tiempos es=>\", multimodas)"
      ]
    }
  ],
  "metadata": {
    "colab": {
      "provenance": [],
      "include_colab_link": true
    },
    "kernelspec": {
      "display_name": "Python [conda env:base] *",
      "language": "python",
      "name": "conda-base-py"
    },
    "language_info": {
      "codemirror_mode": {
        "name": "ipython",
        "version": 3
      },
      "file_extension": ".py",
      "mimetype": "text/x-python",
      "name": "python",
      "nbconvert_exporter": "python",
      "pygments_lexer": "ipython3",
      "version": "3.11.5"
    }
  },
  "nbformat": 4,
  "nbformat_minor": 0
}