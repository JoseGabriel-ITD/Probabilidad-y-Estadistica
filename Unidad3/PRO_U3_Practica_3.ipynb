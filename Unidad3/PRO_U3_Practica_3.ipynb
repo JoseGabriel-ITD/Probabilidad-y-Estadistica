{
  "nbformat": 4,
  "nbformat_minor": 0,
  "metadata": {
    "colab": {
      "provenance": [],
      "authorship_tag": "ABX9TyPatFK4d2FMQo7UI0CR+Aex",
      "include_colab_link": true
    },
    "kernelspec": {
      "name": "python3",
      "display_name": "Python 3"
    },
    "language_info": {
      "name": "python"
    }
  },
  "cells": [
    {
      "cell_type": "markdown",
      "metadata": {
        "id": "view-in-github",
        "colab_type": "text"
      },
      "source": [
        "<a href=\"https://colab.research.google.com/github/JoseGabriel-ITD/Probabilidad-y-Estadistica/blob/main/Unidad3/PRO_U3_Practica_3.ipynb\" target=\"_parent\"><img src=\"https://colab.research.google.com/assets/colab-badge.svg\" alt=\"Open In Colab\"/></a>"
      ]
    },
    {
      "cell_type": "markdown",
      "source": [
        "![image](https://github.com/JoseGabriel-ITD/Probabilidad-y-Estadistica/blob/main/Cintilla2004.png?raw=true)\n",
        "\n",
        "# **Probabilidad y estadística**\n",
        "\n",
        "## Unidad 3\n",
        "\n",
        "### Practica 3: **Varianza y desviación estándar**\n",
        "\n",
        "### Facilitador: *Dr. José Gabriel Rodríguez Rivas*\n",
        "\n",
        "### Alumno:  _____________"
      ],
      "metadata": {
        "id": "ytu3dnotpUVP"
      }
    },
    {
      "cell_type": "markdown",
      "source": [
        "## Varianza y desviación estándar\n",
        "\n",
        "* Supongamos que un estudiante puede sacar las siguientes calificaciones en un examen: 5, 6, 7, 8, 9, 10.    \n",
        "* Las probabilidades correspondientes son:\n"
      ],
      "metadata": {
        "id": "UPOrXCwIpqET"
      }
    },
    {
      "cell_type": "code",
      "source": [
        "import math\n",
        "x = [5, 6, 7, 8, 9, 10]\n",
        "p = [0.05, 0.10, 0.20, 0.30, 0.25, 0.10]\n",
        "\n",
        "# Calcular E(X)\n",
        "esperanza = 0\n",
        "for i in range(len(x)):\n",
        "    esperanza += x[i] * p[i]\n",
        "\n",
        "# Calcular E(X^2)\n",
        "esperanza_cuadrado = 0\n",
        "for i in range(len(x)):\n",
        "    esperanza_cuadrado += (x[i] ** 2) * p[i]\n",
        "\n",
        "# Calcular varianza y desviación estándar\n",
        "varianza = esperanza_cuadrado - esperanza**2\n",
        "desviacion = math.sqrt(varianza)\n",
        "\n",
        "# Mostrar resultados\n",
        "print(f\"E(X) = {esperanza:.2f}\")\n",
        "print(f\"E(X^2) = {esperanza_cuadrado:.2f}\")\n",
        "print(f\"Varianza = {varianza:.2f}\")\n",
        "print(f\"Desviación estándar = {desviacion:.2f}\")\n"
      ],
      "metadata": {
        "colab": {
          "base_uri": "https://localhost:8080/"
        },
        "id": "4xeKoRzKYYja",
        "outputId": "06834ecf-3f3b-4a26-e8c3-255fbde8b3dd"
      },
      "execution_count": 6,
      "outputs": [
        {
          "output_type": "stream",
          "name": "stdout",
          "text": [
            "E(X) = 7.90\n",
            "E(X^2) = 64.10\n",
            "Varianza = 1.69\n",
            "Desviación estándar = 1.30\n"
          ]
        }
      ]
    },
    {
      "cell_type": "markdown",
      "source": [
        "# **Otra opción mas**"
      ],
      "metadata": {
        "id": "0VeDs1VvYuU7"
      }
    },
    {
      "cell_type": "code",
      "execution_count": 5,
      "metadata": {
        "colab": {
          "base_uri": "https://localhost:8080/"
        },
        "id": "BsKg9Si_nWPd",
        "outputId": "e0764e34-314c-4147-ff23-8bc910a9d1e0"
      },
      "outputs": [
        {
          "output_type": "stream",
          "name": "stdout",
          "text": [
            "x = 5, x^2 = 25, p = 0.05, x^2 * p = 1.25\n",
            "x = 6, x^2 = 36, p = 0.1, x^2 * p = 3.60\n",
            "x = 7, x^2 = 49, p = 0.2, x^2 * p = 9.80\n",
            "x = 8, x^2 = 64, p = 0.3, x^2 * p = 19.20\n",
            "x = 9, x^2 = 81, p = 0.25, x^2 * p = 20.25\n",
            "x = 10, x^2 = 100, p = 0.1, x^2 * p = 10.00\n",
            "\n",
            "Valor esperado (Esperanza): 7.90\n",
            "E(X^2) = 64.10\n",
            "Varianza: 1.69\n",
            "Desviación estándar: 1.30\n"
          ]
        }
      ],
      "source": [
        "import math\n",
        "\n",
        "x = [5, 6, 7, 8, 9, 10]  # Valores posibles de la variable aleatoria\n",
        "p = [0.05, 0.10, 0.20, 0.30, 0.25, 0.10]    # Probabilidades correspondientes\n",
        "\n",
        "valor_esperado = 0\n",
        "esperanza_cuadrado = 0\n",
        "\n",
        "# Este código calcula el valor de:  E(X2)=∑xi2​⋅P(xi​)\n",
        "# la esperanza del cuadrado de la variable aleatoria X\n",
        "# Este valor es necesario para calcular la varianza.\n",
        "for i in range(len(x)):\n",
        "    xi = x[i]\n",
        "    pi = p[i]\n",
        "    producto = xi * pi           # multiplicar valor por su probabilidad\n",
        "    valor_esperado += producto   # sumar al acumulador\n",
        "\n",
        "    cuadrado_por_prob = (xi ** 2) * pi\n",
        "    esperanza_cuadrado += cuadrado_por_prob\n",
        "\n",
        "    print(f\"x = {xi}, x^2 = {xi**2}, p = {pi}, x^2 * p = {cuadrado_por_prob:.2f}\")\n",
        "\n",
        "print(f\"\\nValor esperado (Esperanza): {valor_esperado:.2f}\")\n",
        "print(f\"E(X^2) = {esperanza_cuadrado:.2f}\")\n",
        "varianza = esperanza_cuadrado - valor_esperado**2\n",
        "desviacion = math.sqrt(varianza)\n",
        "\n",
        "print(f\"Varianza: {varianza:.2f}\")\n",
        "print(f\"Desviación estándar: {desviacion:.2f}\")"
      ]
    }
  ]
}