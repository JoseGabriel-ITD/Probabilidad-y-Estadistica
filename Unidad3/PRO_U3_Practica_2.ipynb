{
  "nbformat": 4,
  "nbformat_minor": 0,
  "metadata": {
    "colab": {
      "provenance": [],
      "authorship_tag": "ABX9TyOGHr8+ufrirEyR0OyiWSZ9",
      "include_colab_link": true
    },
    "kernelspec": {
      "name": "python3",
      "display_name": "Python 3"
    },
    "language_info": {
      "name": "python"
    }
  },
  "cells": [
    {
      "cell_type": "markdown",
      "metadata": {
        "id": "view-in-github",
        "colab_type": "text"
      },
      "source": [
        "<a href=\"https://colab.research.google.com/github/JoseGabriel-ITD/Probabilidad-y-Estadistica/blob/main/Unidad3/PRO_U3_Practica_2.ipynb\" target=\"_parent\"><img src=\"https://colab.research.google.com/assets/colab-badge.svg\" alt=\"Open In Colab\"/></a>"
      ]
    },
    {
      "cell_type": "markdown",
      "source": [
        "![image](https://github.com/JoseGabriel-ITD/Probabilidad-y-Estadistica/blob/main/Cintilla2004.png?raw=true)\n",
        "\n",
        "# **Probabilidad y estadística**\n",
        "\n",
        "## Unidad 3\n",
        "\n",
        "### Practica 2: **Valor esperado**\n",
        "\n",
        "### Facilitador: *Dr. José Gabriel Rodríguez Rivas*\n",
        "\n",
        "### Alumno:  _____________"
      ],
      "metadata": {
        "id": "ytu3dnotpUVP"
      }
    },
    {
      "cell_type": "markdown",
      "source": [
        "## Valor esperado\n",
        "\n",
        "* Supongamos que un estudiante puede sacar las siguientes calificaciones en un examen: 5, 6, 7, 8, 9, 10.    \n",
        "* Las probabilidades correspondientes son:\n"
      ],
      "metadata": {
        "id": "UPOrXCwIpqET"
      }
    },
    {
      "cell_type": "code",
      "execution_count": 6,
      "metadata": {
        "colab": {
          "base_uri": "https://localhost:8080/"
        },
        "id": "BsKg9Si_nWPd",
        "outputId": "f0a10a6d-28cb-4434-992e-1b594994060a"
      },
      "outputs": [
        {
          "output_type": "stream",
          "name": "stdout",
          "text": [
            "x = 5, p = 0.05, x*p = 0.25\n",
            "x = 6, p = 0.1, x*p = 0.60\n",
            "x = 7, p = 0.2, x*p = 1.40\n",
            "x = 8, p = 0.3, x*p = 2.40\n",
            "x = 9, p = 0.25, x*p = 2.25\n",
            "x = 10, p = 0.1, x*p = 1.00\n",
            "\n",
            "Valor esperado (Esperanza): 7.90\n"
          ]
        }
      ],
      "source": [
        "\n",
        "x = [5, 6, 7, 8, 9, 10]  # Valores posibles de la variable aleatoria\n",
        "p = [0.05, 0.10, 0.20, 0.30, 0.25, 0.10]    # Probabilidades correspondientes\n",
        "\n",
        "# Inicializar una variable para acumular la suma\n",
        "valor_esperado = 0\n",
        "\n",
        "# Recorrer los valores y sus probabilidades\n",
        "for i in range(len(x)):\n",
        "    xi = x[i]        # valor de la variable aleatoria\n",
        "    pi = p[i]        # probabilidad de ese valor\n",
        "    producto = xi * pi           # multiplicar valor por su probabilidad\n",
        "    valor_esperado += producto        # sumar al acumulador\n",
        "    # Mostrar cada paso\n",
        "    print(f\"x = {xi}, p = {pi}, x*p = {producto:.2f}\")\n",
        "\n",
        "# Mostrar resultado final\n",
        "print(f\"\\nValor esperado (Esperanza): {valor_esperado:.2f}\")\n",
        "\n",
        "\n",
        "\n",
        "#######   Version simplificada   ##############\n",
        "\n",
        "# valor_esperado = sum([xi * pi for xi, pi in zip(x, p)])\n",
        "# print(f\"Valor esperado (media): {valor_esperado:.2f}\")\n",
        "\n",
        "# zip() es una función de Python que empareja elementos de dos listas.\n",
        "# zip(x, p) devuelve un iterable de tuplas:\n",
        "# [(x1, p1), (x2, p2), ..., (xn, pn)]\n",
        "\n",
        "\n"
      ]
    }
  ]
}